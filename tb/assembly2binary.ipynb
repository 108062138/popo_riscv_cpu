{
 "cells": [
  {
   "cell_type": "code",
   "execution_count": 9,
   "id": "6fbbc08d",
   "metadata": {},
   "outputs": [
    {
     "name": "stdout",
     "output_type": "stream",
     "text": [
      "read file ./asms/test_CAL_R.asm\n",
      "21\n",
      "00000000001100000000000010010011\n",
      "00000000010000000000000100010011\n",
      "00000000001000001000000110110011\n",
      "01000000001000001000001000110011\n",
      "00000000001000001001001010110011\n",
      "00000000001000001100010000110011\n",
      "00000000001000001101010010110011\n",
      "01000000001000001101010100110011\n",
      "00000000001000001110010110110011\n",
      "00000000001000001111011000110011\n",
      "11111111010100000000000010010011\n",
      "00000000010100000000000100010011\n",
      "00000000001000001000000110110011\n",
      "01000000001000001000001000110011\n",
      "00000000001000001001001010110011\n",
      "00000000001000001100010000110011\n",
      "00000000001000001101010010110011\n",
      "01000000001000001101010100110011\n",
      "00000000001000001110010110110011\n",
      "00000000001000001111011000110011\n",
      "00101001101000000000111110010011\n"
     ]
    }
   ],
   "source": [
    "from riscv_assembler.convert import AssemblyConverter\n",
    "# asm_file = './asms/inst.asm'\n",
    "asm_file = './asms/test_CAL_R.asm'\n",
    "# asm_file = './asms/test_I_type.asm'\n",
    "# asm_file = './asms/test_LOAD.asm'\n",
    "# asm_file = './asms/test_STORE.asm'\n",
    "# asm_file = './asms/test_forward.asm'\n",
    "# asm_file = './asms/test_alu.asm'\n",
    "# asm_file = './asms/test_load_then_use.asm'\n",
    "# asm_file = './asms/test_jal_and_jalr.asm'\n",
    "# asm_file = './asms/find_max_in_array.asm'\n",
    "# asm_file = './asms/nested_for_loop.asm'\n",
    "# asm_file = './asms/justify_load_store.asm'\n",
    "# asm_file = './asms/test_mod.asm'\n",
    "# asm_file = './asms/factorial.asm'\n",
    "hexa_file = 'word_inst.mem'\n",
    "print('read file', asm_file)\n",
    "convertor = AssemblyConverter()\n",
    "binary = convertor.convert(asm_file)\n",
    "print(len(binary))\n",
    "for i in range(len(binary)):\n",
    "    print(binary[i])\n",
    "def convert_binary_to_hex(line):\n",
    "    hex_values = ''\n",
    "    for i in range(0, len(line), 4):\n",
    "        byte = line[i:i + 4]\n",
    "        hex_value = hex(int(byte, 2))[2:].zfill(2)\n",
    "        hex_values += hex_value[1]\n",
    "    return hex_values"
   ]
  },
  {
   "cell_type": "code",
   "execution_count": 10,
   "id": "8cb57abc",
   "metadata": {},
   "outputs": [
    {
     "name": "stdout",
     "output_type": "stream",
     "text": [
      "00000000001100000000000010010011 <=> 00300093\n",
      "00000000010000000000000100010011 <=> 00400113\n",
      "00000000001000001000000110110011 <=> 002081b3\n",
      "01000000001000001000001000110011 <=> 40208233\n",
      "00000000001000001001001010110011 <=> 002092b3\n",
      "00000000001000001100010000110011 <=> 0020c433\n",
      "00000000001000001101010010110011 <=> 0020d4b3\n",
      "01000000001000001101010100110011 <=> 4020d533\n",
      "00000000001000001110010110110011 <=> 0020e5b3\n",
      "00000000001000001111011000110011 <=> 0020f633\n",
      "11111111010100000000000010010011 <=> ff500093\n",
      "00000000010100000000000100010011 <=> 00500113\n",
      "00000000001000001000000110110011 <=> 002081b3\n",
      "01000000001000001000001000110011 <=> 40208233\n",
      "00000000001000001001001010110011 <=> 002092b3\n",
      "00000000001000001100010000110011 <=> 0020c433\n",
      "00000000001000001101010010110011 <=> 0020d4b3\n",
      "01000000001000001101010100110011 <=> 4020d533\n",
      "00000000001000001110010110110011 <=> 0020e5b3\n",
      "00000000001000001111011000110011 <=> 0020f633\n",
      "00101001101000000000111110010011 <=> 29a00f93\n",
      "finish writing~~~\n"
     ]
    }
   ],
   "source": [
    "hexas = []\n",
    "for content in binary:\n",
    "    hexa = convert_binary_to_hex(content)\n",
    "    print(content, '<=>', hexa)\n",
    "    hexas.append(hexa)\n",
    "# dump hexas into test.asm\n",
    "with open(hexa_file, 'w') as f:\n",
    "    f.write('\\n'.join(hexas))\n",
    "    f.flush()\n",
    "print(\"finish writing~~~\")"
   ]
  },
  {
   "cell_type": "code",
   "execution_count": 11,
   "id": "5445836e",
   "metadata": {},
   "outputs": [
    {
     "name": "stdout",
     "output_type": "stream",
     "text": [
      "72\n"
     ]
    }
   ],
   "source": [
    "cnt = 12\n",
    "for i in range(0, 5):\n",
    "    for j in range(0, 4):\n",
    "        cnt += (i*j)\n",
    "print(cnt)"
   ]
  }
 ],
 "metadata": {
  "kernelspec": {
   "display_name": "popo-dev",
   "language": "python",
   "name": "python3"
  },
  "language_info": {
   "codemirror_mode": {
    "name": "ipython",
    "version": 3
   },
   "file_extension": ".py",
   "mimetype": "text/x-python",
   "name": "python",
   "nbconvert_exporter": "python",
   "pygments_lexer": "ipython3",
   "version": "3.10.13"
  }
 },
 "nbformat": 4,
 "nbformat_minor": 5
}
