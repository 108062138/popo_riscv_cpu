{
 "cells": [
  {
   "cell_type": "code",
   "execution_count": 55,
   "id": "6fbbc08d",
   "metadata": {},
   "outputs": [
    {
     "name": "stdout",
     "output_type": "stream",
     "text": [
      "9\n",
      "00000000101000000000000010010011\n",
      "00000000000000000000000100010011\n",
      "00000000100000000000000110010011\n",
      "00000000001100010101100001100011\n",
      "00000000001000001000000010110011\n",
      "00000000000100010000000100010011\n",
      "11111111010111111111000001101111\n",
      "00000000000000001000001000010011\n",
      "00000000010000100000001000110011\n"
     ]
    }
   ],
   "source": [
    "from riscv_assembler.convert import AssemblyConverter\n",
    "# asm_file = './asms/inst.asm'\n",
    "# asm_file = './asms/test_R_type.asm'\n",
    "# asm_file = './asms/test_I_type.asm'\n",
    "# asm_file = './asms/test_LOAD.asm'\n",
    "# asm_file = './asms/test_forward.asm'\n",
    "# asm_file = './asms/test_alu.asm'\n",
    "asm_file = './asms/normal_for_loop.asm'\n",
    "hexa_file = 'inst.mem'\n",
    "convertor = AssemblyConverter()\n",
    "binary = convertor.convert(asm_file)\n",
    "print(len(binary))\n",
    "for i in range(len(binary)):\n",
    "    print(binary[i])\n",
    "def convert_binary_to_hex(line):\n",
    "    hex_values = ''\n",
    "    for i in range(0, len(line), 4):\n",
    "        byte = line[i:i + 4]\n",
    "        hex_value = hex(int(byte, 2))[2:].zfill(2)\n",
    "        hex_values += hex_value[1]\n",
    "    return hex_values"
   ]
  },
  {
   "cell_type": "code",
   "execution_count": 56,
   "id": "8cb57abc",
   "metadata": {},
   "outputs": [
    {
     "name": "stdout",
     "output_type": "stream",
     "text": [
      "00000000101000000000000010010011 <=> 00a00093\n",
      "00000000000000000000000100010011 <=> 00000113\n",
      "00000000100000000000000110010011 <=> 00800193\n",
      "00000000001100010101100001100011 <=> 00315863\n",
      "00000000001000001000000010110011 <=> 002080b3\n",
      "00000000000100010000000100010011 <=> 00110113\n",
      "11111111010111111111000001101111 <=> ff5ff06f\n",
      "00000000000000001000001000010011 <=> 00008213\n",
      "00000000010000100000001000110011 <=> 00420233\n"
     ]
    }
   ],
   "source": [
    "hexas = []\n",
    "for content in binary:\n",
    "    hexa = convert_binary_to_hex(content)\n",
    "    print(content, '<=>', hexa)\n",
    "    hexas.append(hexa)\n",
    "# dump hexas into test.asm\n",
    "with open(hexa_file, 'w') as f:\n",
    "    f.write('\\n'.join(hexas))"
   ]
  },
  {
   "cell_type": "code",
   "execution_count": 57,
   "id": "78185297",
   "metadata": {},
   "outputs": [
    {
     "name": "stdout",
     "output_type": "stream",
     "text": [
      "10\n",
      "11\n",
      "13\n",
      "16\n",
      "20\n",
      "25\n",
      "31\n",
      "38\n"
     ]
    }
   ],
   "source": [
    "# 20000037 lui x1, 8192\n",
    "# 06400013 addi x0, x0, 100\n",
    "# 06400013 addi x0, x0, 100\n",
    "# 0F2BA117 auipc x2, 62138\n",
    "# 00000000000100011010_01000_0100011\n",
    "psum  = 10\n",
    "for i in range(0, 8):\n",
    "    psum += i\n",
    "    print(psum)"
   ]
  },
  {
   "cell_type": "code",
   "execution_count": null,
   "id": "5445836e",
   "metadata": {},
   "outputs": [],
   "source": []
  }
 ],
 "metadata": {
  "kernelspec": {
   "display_name": "popo",
   "language": "python",
   "name": "python3"
  },
  "language_info": {
   "codemirror_mode": {
    "name": "ipython",
    "version": 3
   },
   "file_extension": ".py",
   "mimetype": "text/x-python",
   "name": "python",
   "nbconvert_exporter": "python",
   "pygments_lexer": "ipython3",
   "version": "3.10.13"
  }
 },
 "nbformat": 4,
 "nbformat_minor": 5
}
