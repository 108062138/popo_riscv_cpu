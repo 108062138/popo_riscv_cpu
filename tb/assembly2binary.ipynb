{
 "cells": [
  {
   "cell_type": "code",
   "execution_count": 45,
   "id": "6fbbc08d",
   "metadata": {},
   "outputs": [
    {
     "name": "stdout",
     "output_type": "stream",
     "text": [
      "18\n",
      "00000000010100000000000010010011\n",
      "00000000000100001000000010110011\n",
      "00000000011100000000000100010011\n",
      "00000000101000000000000000010011\n",
      "00000000001000010000000100110011\n",
      "00000000101100000000000110010011\n",
      "00000000101000000000000000010011\n",
      "00000000101000000000000000010011\n",
      "00000000001100011000000110110011\n",
      "00000000110100000000001000010011\n",
      "00000000101000000000000000010011\n",
      "00000000101000000000000000010011\n",
      "00000000101000000000000000010011\n",
      "00000000010000100000001000110011\n",
      "00000001000100000000001010010011\n",
      "00000000101000000000000000010011\n",
      "00000000101000000000000000010011\n",
      "00000000101000000000000000010011\n"
     ]
    }
   ],
   "source": [
    "from riscv_assembler.convert import AssemblyConverter\n",
    "# asm_file = './asms/inst.asm'\n",
    "# asm_file = './asms/test_r_type.asm'\n",
    "# asm_file = './asms/test_i_type.asm'\n",
    "asm_file = './asms/test_forward.asm'\n",
    "# asm_file = './asms/test_alu.asm'\n",
    "hexa_file = 'inst.mem'\n",
    "convertor = AssemblyConverter()\n",
    "binary = convertor.convert(asm_file)\n",
    "print(len(binary))\n",
    "for i in range(len(binary)):\n",
    "    print(binary[i])\n",
    "def convert_binary_to_hex(line):\n",
    "    hex_values = ''\n",
    "    for i in range(0, len(line), 4):\n",
    "        byte = line[i:i + 4]\n",
    "        hex_value = hex(int(byte, 2))[2:].zfill(2)\n",
    "        hex_values += hex_value[1]\n",
    "    return hex_values"
   ]
  },
  {
   "cell_type": "code",
   "execution_count": 46,
   "id": "8cb57abc",
   "metadata": {},
   "outputs": [
    {
     "name": "stdout",
     "output_type": "stream",
     "text": [
      "00000000010100000000000010010011 <=> 00500093\n",
      "00000000000100001000000010110011 <=> 001080b3\n",
      "00000000011100000000000100010011 <=> 00700113\n",
      "00000000101000000000000000010011 <=> 00a00013\n",
      "00000000001000010000000100110011 <=> 00210133\n",
      "00000000101100000000000110010011 <=> 00b00193\n",
      "00000000101000000000000000010011 <=> 00a00013\n",
      "00000000101000000000000000010011 <=> 00a00013\n",
      "00000000001100011000000110110011 <=> 003181b3\n",
      "00000000110100000000001000010011 <=> 00d00213\n",
      "00000000101000000000000000010011 <=> 00a00013\n",
      "00000000101000000000000000010011 <=> 00a00013\n",
      "00000000101000000000000000010011 <=> 00a00013\n",
      "00000000010000100000001000110011 <=> 00420233\n",
      "00000001000100000000001010010011 <=> 01100293\n",
      "00000000101000000000000000010011 <=> 00a00013\n",
      "00000000101000000000000000010011 <=> 00a00013\n",
      "00000000101000000000000000010011 <=> 00a00013\n"
     ]
    }
   ],
   "source": [
    "hexas = []\n",
    "for content in binary:\n",
    "    hexa = convert_binary_to_hex(content)\n",
    "    print(content, '<=>', hexa)\n",
    "    hexas.append(hexa)\n",
    "# dump hexas into test.asm\n",
    "with open(hexa_file, 'w') as f:\n",
    "    f.write('\\n'.join(hexas))"
   ]
  },
  {
   "cell_type": "code",
   "execution_count": null,
   "id": "78185297",
   "metadata": {},
   "outputs": [],
   "source": [
    "# 20000037 lui x1, 8192\n",
    "# 06400013 addi x0, x0, 100\n",
    "# 06400013 addi x0, x0, 100\n",
    "# 0F2BA117 auipc x2, 62138"
   ]
  }
 ],
 "metadata": {
  "kernelspec": {
   "display_name": "popo",
   "language": "python",
   "name": "python3"
  },
  "language_info": {
   "codemirror_mode": {
    "name": "ipython",
    "version": 3
   },
   "file_extension": ".py",
   "mimetype": "text/x-python",
   "name": "python",
   "nbconvert_exporter": "python",
   "pygments_lexer": "ipython3",
   "version": "3.10.13"
  }
 },
 "nbformat": 4,
 "nbformat_minor": 5
}
