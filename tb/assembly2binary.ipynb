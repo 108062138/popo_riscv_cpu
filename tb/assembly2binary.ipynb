{
 "cells": [
  {
   "cell_type": "code",
   "execution_count": 86,
   "id": "6fbbc08d",
   "metadata": {},
   "outputs": [
    {
     "name": "stdout",
     "output_type": "stream",
     "text": [
      "9\n",
      "00000000101000000000001110010011\n",
      "00000000000000000000001010010011\n",
      "00000000001100000000001100010011\n",
      "00000000011000101101100001100011\n",
      "00000000010100111000001110110011\n",
      "00000000000100101000001010010011\n",
      "11111111010111111111000001101111\n",
      "00000000000000111000010000010011\n",
      "00000000100001000000010000110011\n"
     ]
    }
   ],
   "source": [
    "from riscv_assembler.convert import AssemblyConverter\n",
    "asm_file = 'inst.asm'\n",
    "hexa_file = 'inst.mem'\n",
    "convertor = AssemblyConverter()\n",
    "binary = convertor.convert(asm_file)\n",
    "print(len(binary))\n",
    "for i in range(len(binary)):\n",
    "    print(binary[i])\n",
    "def convert_binary_to_hex(line):\n",
    "    hex_values = ''\n",
    "    for i in range(0, len(line), 4):\n",
    "        byte = line[i:i + 4]\n",
    "        hex_value = hex(int(byte, 2))[2:].zfill(2)\n",
    "        hex_values += hex_value[1]\n",
    "    return hex_values"
   ]
  },
  {
   "cell_type": "code",
   "execution_count": 87,
   "id": "8cb57abc",
   "metadata": {},
   "outputs": [
    {
     "name": "stdout",
     "output_type": "stream",
     "text": [
      "00000000101000000000001110010011 <=> 00a00393\n",
      "00000000000000000000001010010011 <=> 00000293\n",
      "00000000001100000000001100010011 <=> 00300313\n",
      "00000000011000101101100001100011 <=> 0062d863\n",
      "00000000010100111000001110110011 <=> 005383b3\n",
      "00000000000100101000001010010011 <=> 00128293\n",
      "11111111010111111111000001101111 <=> ff5ff06f\n",
      "00000000000000111000010000010011 <=> 00038413\n",
      "00000000100001000000010000110011 <=> 00840433\n"
     ]
    }
   ],
   "source": [
    "hexas = []\n",
    "for content in binary:\n",
    "    hexa = convert_binary_to_hex(content)\n",
    "    print(content, '<=>', hexa)\n",
    "    hexas.append(hexa)\n",
    "# dump hexas into test.asm\n",
    "with open(hexa_file, 'w') as f:\n",
    "    f.write('\\n'.join(hexas))"
   ]
  }
 ],
 "metadata": {
  "kernelspec": {
   "display_name": "popo",
   "language": "python",
   "name": "python3"
  },
  "language_info": {
   "codemirror_mode": {
    "name": "ipython",
    "version": 3
   },
   "file_extension": ".py",
   "mimetype": "text/x-python",
   "name": "python",
   "nbconvert_exporter": "python",
   "pygments_lexer": "ipython3",
   "version": "3.10.13"
  }
 },
 "nbformat": 4,
 "nbformat_minor": 5
}
