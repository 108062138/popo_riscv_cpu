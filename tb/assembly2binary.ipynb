{
 "cells": [
  {
   "cell_type": "code",
   "execution_count": 83,
   "id": "6fbbc08d",
   "metadata": {},
   "outputs": [
    {
     "name": "stdout",
     "output_type": "stream",
     "text": [
      "14\n",
      "00000000010100000000000010010011\n",
      "00000000010000000000000100010011\n",
      "00000000110000000000000110010011\n",
      "00000000000000000000001000010011\n",
      "00000010000100100000001001100011\n",
      "00000000000000000000001010010011\n",
      "00000000001000101000101001100011\n",
      "00000010010100100000001100110011\n",
      "00000000011000011000000110110011\n",
      "00000000000100101000001010010011\n",
      "11111111000111111111000001101111\n",
      "00000000000100100000001000010011\n",
      "11111110000111111111000001101111\n",
      "00101001101000000000111110010011\n"
     ]
    }
   ],
   "source": [
    "from riscv_assembler.convert import AssemblyConverter\n",
    "# asm_file = './asms/inst.asm'\n",
    "# asm_file = './asms/test_R_type.asm'\n",
    "# asm_file = './asms/test_I_type.asm'\n",
    "# asm_file = './asms/test_LOAD.asm'\n",
    "# asm_file = './asms/test_forward.asm'\n",
    "# asm_file = './asms/test_alu.asm'\n",
    "asm_file = './asms/nested_for_loop.asm'\n",
    "hexa_file = 'inst.mem'\n",
    "convertor = AssemblyConverter()\n",
    "binary = convertor.convert(asm_file)\n",
    "print(len(binary))\n",
    "for i in range(len(binary)):\n",
    "    print(binary[i])\n",
    "def convert_binary_to_hex(line):\n",
    "    hex_values = ''\n",
    "    for i in range(0, len(line), 4):\n",
    "        byte = line[i:i + 4]\n",
    "        hex_value = hex(int(byte, 2))[2:].zfill(2)\n",
    "        hex_values += hex_value[1]\n",
    "    return hex_values"
   ]
  },
  {
   "cell_type": "code",
   "execution_count": 84,
   "id": "8cb57abc",
   "metadata": {},
   "outputs": [
    {
     "name": "stdout",
     "output_type": "stream",
     "text": [
      "00000000010100000000000010010011 <=> 00500093\n",
      "00000000010000000000000100010011 <=> 00400113\n",
      "00000000110000000000000110010011 <=> 00c00193\n",
      "00000000000000000000001000010011 <=> 00000213\n",
      "00000010000100100000001001100011 <=> 02120263\n",
      "00000000000000000000001010010011 <=> 00000293\n",
      "00000000001000101000101001100011 <=> 00228a63\n",
      "00000010010100100000001100110011 <=> 02520333\n",
      "00000000011000011000000110110011 <=> 006181b3\n",
      "00000000000100101000001010010011 <=> 00128293\n",
      "11111111000111111111000001101111 <=> ff1ff06f\n",
      "00000000000100100000001000010011 <=> 00120213\n",
      "11111110000111111111000001101111 <=> fe1ff06f\n",
      "00101001101000000000111110010011 <=> 29a00f93\n"
     ]
    }
   ],
   "source": [
    "hexas = []\n",
    "for content in binary:\n",
    "    hexa = convert_binary_to_hex(content)\n",
    "    print(content, '<=>', hexa)\n",
    "    hexas.append(hexa)\n",
    "# dump hexas into test.asm\n",
    "with open(hexa_file, 'w') as f:\n",
    "    f.write('\\n'.join(hexas))"
   ]
  },
  {
   "cell_type": "code",
   "execution_count": 85,
   "id": "78185297",
   "metadata": {},
   "outputs": [
    {
     "name": "stdout",
     "output_type": "stream",
     "text": [
      "10\n",
      "11\n",
      "13\n",
      "16\n",
      "20\n",
      "25\n",
      "31\n",
      "38\n"
     ]
    }
   ],
   "source": [
    "# 20000037 lui x1, 8192\n",
    "# 06400013 addi x0, x0, 100\n",
    "# 06400013 addi x0, x0, 100\n",
    "# 0F2BA117 auipc x2, 62138\n",
    "# 00000000000100011010_01000_0100011\n",
    "psum  = 10\n",
    "for i in range(0, 8):\n",
    "    psum += i\n",
    "    print(psum)"
   ]
  },
  {
   "cell_type": "code",
   "execution_count": 86,
   "id": "5445836e",
   "metadata": {},
   "outputs": [
    {
     "name": "stdout",
     "output_type": "stream",
     "text": [
      "72\n"
     ]
    }
   ],
   "source": [
    "cnt = 12\n",
    "for i in range(0, 5):\n",
    "    for j in range(0, 4):\n",
    "        cnt += (i*j)\n",
    "print(cnt)"
   ]
  },
  {
   "cell_type": "code",
   "execution_count": null,
   "id": "48ea3b3d",
   "metadata": {},
   "outputs": [],
   "source": []
  }
 ],
 "metadata": {
  "kernelspec": {
   "display_name": "popo",
   "language": "python",
   "name": "python3"
  },
  "language_info": {
   "codemirror_mode": {
    "name": "ipython",
    "version": 3
   },
   "file_extension": ".py",
   "mimetype": "text/x-python",
   "name": "python",
   "nbconvert_exporter": "python",
   "pygments_lexer": "ipython3",
   "version": "3.10.13"
  }
 },
 "nbformat": 4,
 "nbformat_minor": 5
}
