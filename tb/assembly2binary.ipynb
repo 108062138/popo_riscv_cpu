{
 "cells": [
  {
   "cell_type": "code",
   "execution_count": 1,
   "id": "6fbbc08d",
   "metadata": {},
   "outputs": [
    {
     "name": "stdout",
     "output_type": "stream",
     "text": [
      "3\n",
      "00000000010000011000000100110011\n",
      "01000000011100110000001010110011\n",
      "00000000101001001100010000110011\n"
     ]
    }
   ],
   "source": [
    "from riscv_assembler.convert import AssemblyConverter\n",
    "# asm_file = './asms/inst.asm'\n",
    "asm_file = './asms/test_r_type.asm'\n",
    "hexa_file = 'inst.mem'\n",
    "convertor = AssemblyConverter()\n",
    "binary = convertor.convert(asm_file)\n",
    "print(len(binary))\n",
    "for i in range(len(binary)):\n",
    "    print(binary[i])\n",
    "def convert_binary_to_hex(line):\n",
    "    hex_values = ''\n",
    "    for i in range(0, len(line), 4):\n",
    "        byte = line[i:i + 4]\n",
    "        hex_value = hex(int(byte, 2))[2:].zfill(2)\n",
    "        hex_values += hex_value[1]\n",
    "    return hex_values"
   ]
  },
  {
   "cell_type": "code",
   "execution_count": 2,
   "id": "8cb57abc",
   "metadata": {},
   "outputs": [
    {
     "name": "stdout",
     "output_type": "stream",
     "text": [
      "00000000010000011000000100110011 <=> 00418133\n",
      "01000000011100110000001010110011 <=> 407302b3\n",
      "00000000101001001100010000110011 <=> 00a4c433\n"
     ]
    }
   ],
   "source": [
    "hexas = []\n",
    "for content in binary:\n",
    "    hexa = convert_binary_to_hex(content)\n",
    "    print(content, '<=>', hexa)\n",
    "    hexas.append(hexa)\n",
    "# dump hexas into test.asm\n",
    "with open(hexa_file, 'w') as f:\n",
    "    f.write('\\n'.join(hexas))"
   ]
  }
 ],
 "metadata": {
  "kernelspec": {
   "display_name": "popo",
   "language": "python",
   "name": "python3"
  },
  "language_info": {
   "codemirror_mode": {
    "name": "ipython",
    "version": 3
   },
   "file_extension": ".py",
   "mimetype": "text/x-python",
   "name": "python",
   "nbconvert_exporter": "python",
   "pygments_lexer": "ipython3",
   "version": "3.10.13"
  }
 },
 "nbformat": 4,
 "nbformat_minor": 5
}
