{
 "cells": [
  {
   "cell_type": "code",
   "execution_count": 8,
   "id": "6fbbc08d",
   "metadata": {},
   "outputs": [
    {
     "name": "stdout",
     "output_type": "stream",
     "text": [
      "3\n",
      "00000000001000001000000000110011\n",
      "01000000010100100000000110110011\n",
      "00000000101001000100001100110011\n"
     ]
    }
   ],
   "source": [
    "from riscv_assembler.convert import AssemblyConverter\n",
    "# asm_file = './asms/inst.asm'\n",
    "asm_file = './asms/test_r_type.asm'\n",
    "hexa_file = 'inst.mem'\n",
    "convertor = AssemblyConverter()\n",
    "binary = convertor.convert(asm_file)\n",
    "print(len(binary))\n",
    "for i in range(len(binary)):\n",
    "    print(binary[i])\n",
    "def convert_binary_to_hex(line):\n",
    "    hex_values = ''\n",
    "    for i in range(0, len(line), 4):\n",
    "        byte = line[i:i + 4]\n",
    "        hex_value = hex(int(byte, 2))[2:].zfill(2)\n",
    "        hex_values += hex_value[1]\n",
    "    return hex_values"
   ]
  },
  {
   "cell_type": "code",
   "execution_count": 9,
   "id": "8cb57abc",
   "metadata": {},
   "outputs": [
    {
     "name": "stdout",
     "output_type": "stream",
     "text": [
      "00000000001000001000000000110011 <=> 00208033\n",
      "01000000010100100000000110110011 <=> 405201b3\n",
      "00000000101001000100001100110011 <=> 00a44333\n"
     ]
    }
   ],
   "source": [
    "hexas = []\n",
    "for content in binary:\n",
    "    hexa = convert_binary_to_hex(content)\n",
    "    print(content, '<=>', hexa)\n",
    "    hexas.append(hexa)\n",
    "# dump hexas into test.asm\n",
    "with open(hexa_file, 'w') as f:\n",
    "    f.write('\\n'.join(hexas))"
   ]
  }
 ],
 "metadata": {
  "kernelspec": {
   "display_name": "popo",
   "language": "python",
   "name": "python3"
  },
  "language_info": {
   "codemirror_mode": {
    "name": "ipython",
    "version": 3
   },
   "file_extension": ".py",
   "mimetype": "text/x-python",
   "name": "python",
   "nbconvert_exporter": "python",
   "pygments_lexer": "ipython3",
   "version": "3.10.13"
  }
 },
 "nbformat": 4,
 "nbformat_minor": 5
}
